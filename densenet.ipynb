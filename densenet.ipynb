{
 "cells": [
  {
   "cell_type": "code",
   "execution_count": 1,
   "metadata": {},
   "outputs": [
    {
     "name": "stderr",
     "output_type": "stream",
     "text": [
      "C:\\Users\\JHLee\\Anaconda3\\lib\\site-packages\\h5py\\__init__.py:36: FutureWarning: Conversion of the second argument of issubdtype from `float` to `np.floating` is deprecated. In future, it will be treated as `np.float64 == np.dtype(float).type`.\n",
      "  from ._conv import register_converters as _register_converters\n",
      "Using TensorFlow backend.\n"
     ]
    }
   ],
   "source": [
    "from keras.models import Model\n",
    "from keras import layers\n",
    "from keras.layers import Input, Dense,Conv2D, Activation, BatchNormalization\n",
    "from keras.layers import MaxPooling2D, AveragePooling2D, Dropout, Flatten, GlobalAveragePooling2D, GlobalMaxPooling2D\n",
    "from keras.preprocessing import image\n",
    "from keras.optimizers import SGD\n",
    "from keras.utils import to_categorical\n",
    "from keras_applications.imagenet_utils import _obtain_input_shape\n",
    "from keras import backend as K\n",
    "from keras.callbacks import EarlyStopping\n",
    "from keras.regularizers import l2\n",
    "from keras.layers.merge import concatenate\n",
    "import numpy as np\n",
    "import matplotlib.pyplot as plt"
   ]
  },
  {
   "cell_type": "code",
   "execution_count": 2,
   "metadata": {},
   "outputs": [],
   "source": [
    "def composite_f(x, nb_filter, weight_decay=1E-4):\n",
    "    \n",
    "    if K.image_data_format() == 'channels_first':\n",
    "        bn_axis = 1\n",
    "    else:\n",
    "        bn_axis = 3\n",
    "        \n",
    "    x= BatchNormalization(axis=bn_axis, gamma_regularizer=l2(weight_decay), beta_regularizer=l2(weight_decay))(x)\n",
    "    x = Activation('relu')(x)\n",
    "    x= Conv2D(nb_filter,(3,3),kernel_initializer = 'he_normal', padding ='same', use_bias= False, kernel_regularizer=l2(weight_decay))(x)\n",
    "    \n",
    "    return x    "
   ]
  },
  {
   "cell_type": "code",
   "execution_count": 3,
   "metadata": {},
   "outputs": [],
   "source": [
    "def transition_block(x, nb_filter, compression=1.0,weight_decay = 1E-4):\n",
    "    \n",
    "    if K.image_data_format() == 'channels_first':\n",
    "        bn_axis = 1\n",
    "    else:\n",
    "        bn_axis = 3\n",
    "    \n",
    "    if compression != 1.0 :\n",
    "        nb_filter = int(nb_filter*compression)\n",
    "    \n",
    "    x= BatchNormalization(axis=bn_axis, gamma_regularizer=l2(weight_decay), beta_regularizer=l2(weight_decay))(x)\n",
    "    x= Conv2D(nb_filter,(1,1),kernel_initializer = 'he_normal', padding ='same', use_bias= False, kernel_regularizer=l2(weight_decay))(x)\n",
    "    x= AveragePooling2D((2,2), strides=(2,2))(x)\n",
    "    \n",
    "    return x , nb_filter\n"
   ]
  },
  {
   "cell_type": "code",
   "execution_count": 4,
   "metadata": {},
   "outputs": [],
   "source": [
    "def denseblock(x, layers, feature_map, growth_rate, weight_decay=1E-4):\n",
    "    if K.image_data_format() == 'channels_first':\n",
    "        bn_axis = 1\n",
    "    else:\n",
    "        bn_axis = 3    \n",
    "        \n",
    "    input_list = [x]\n",
    "    \n",
    "    for i in range(layers):\n",
    "        filter_num = 4*growth_rate\n",
    "        \n",
    "        #bottle neck 구조\n",
    "        b= BatchNormalization(axis=bn_axis, gamma_regularizer=l2(weight_decay), beta_regularizer=l2(weight_decay))(x)\n",
    "        b= Activation('relu')(b)\n",
    "        b= Conv2D(filter_num,(1,1),kernel_initializer = 'he_normal', padding ='same', use_bias= False, kernel_regularizer=l2(weight_decay))(b)\n",
    "        \n",
    "        b= composite_f(b, growth_rate, weight_decay=weight_decay)\n",
    "        \n",
    "        input_list.append(b)\n",
    "        \n",
    "        x = concatenate([x,b],axis=bn_axis)\n",
    "        feature_map += growth_rate\n",
    "    \n",
    "    return x ,feature_map"
   ]
  },
  {
   "cell_type": "markdown",
   "metadata": {},
   "source": [
    "## Densenet 구조\n",
    "\n",
    "imagenet에서는 dense block이 4개이지만 코드를 돌릴때는 cifar10 사용해서 dense block을 3개만\n",
    "이미지 크기가 32 x 32 인데 구체적인 growth rate랑 filter수를 몰라서.. 컴퓨터 용량에 맞춰서 maxpooling과정 생략하고 마지막에 averagePooling filter를 (2,2)로 해주었다.\n",
    "\n",
    "imagenet으로 한다면 weight를 지정해주는 것이 포함되어야 하고 default size를 변경해주고 Denseblock을 4개, 마지막 풀링때 (7,7)로 해주어야한다."
   ]
  },
  {
   "cell_type": "code",
   "execution_count": 5,
   "metadata": {},
   "outputs": [],
   "source": [
    "def DenseNet(classes, growth_rate=32, input_shape=None, strides=(1,1), padding = 'same'):\n",
    "    input_shape = _obtain_input_shape(input_shape,default_size=32,min_size=15,\n",
    "        data_format=K.image_data_format(),require_flatten=True)\n",
    "    \n",
    "    img_input = Input(shape=input_shape)\n",
    "    x = img_input\n",
    "\n",
    "    \n",
    "    #맨 처음 convolution layer + Pooling layer\n",
    "    x = Conv2D(64,(7,7),strides=(2,2),padding='valid',use_bias=False)(x)\n",
    "    #x= MaxPooling2D((3,3), strides=(2,2), padding = padding)(x)\n",
    "    \n",
    "    #Dense block 1\n",
    "    x, feature_map = denseblock(x, 6, 64, 32)\n",
    "    #Transition layer 1 \n",
    "    x, feature_map = transition_block(x, feature_map, compression= 0.5)\n",
    "    #Dense block 2\n",
    "    x, feature_map = denseblock(x, 12, feature_map, 32)\n",
    "    #Transition layer 2\n",
    "    x, feature_map = transition_block(x, feature_map, compression= 0.5)\n",
    "    #Dense block 3\n",
    "    x, feature_map = denseblock(x, 24, feature_map, 32)\n",
    "    #Transition layer 3 \n",
    "    #x, feature_map = transition_block(x, feature_map, compression= 0.5)\n",
    "    #Dense block 4\n",
    "    #x, feature_map = denseblock(x, 16, feature_map, 32)\n",
    "    \n",
    "    #Classification layer \n",
    "    x= Activation('relu')(x)\n",
    "    x= GlobalAveragePooling2D()(x)\n",
    "    x= Dense(classes, activation ='softmax')(x)\n",
    "    \n",
    "    densenet = Model(img_input, x)\n",
    "    \n",
    "    return densenet"
   ]
  },
  {
   "cell_type": "code",
   "execution_count": 6,
   "metadata": {},
   "outputs": [],
   "source": [
    "from keras.datasets import cifar10\n",
    "np.random.seed(1000)\n",
    "(X_train, Y_train), (X_test, Y_test) = cifar10.load_data()\n"
   ]
  },
  {
   "cell_type": "markdown",
   "metadata": {},
   "source": [
    "실제 densenet을 학습시킨 사람들은 cifar10은 batch_size를 64, 에폭을 300을 사용하였지만 역시나 컴퓨터 계산량 조정으로 128과 30으로 임의로 조정해서 모델이 돌아갈 수 있는지 확인함"
   ]
  },
  {
   "cell_type": "code",
   "execution_count": 7,
   "metadata": {},
   "outputs": [
    {
     "name": "stdout",
     "output_type": "stream",
     "text": [
      "Train on 50000 samples, validate on 10000 samples\n",
      "Epoch 1/30\n",
      "50000/50000 [==============================] - 64s 1ms/step - loss: 5.5114 - acc: 0.4258 - val_loss: 6.2748 - val_acc: 0.2668\n",
      "Epoch 2/30\n",
      "50000/50000 [==============================] - 45s 910us/step - loss: 5.0605 - acc: 0.5824 - val_loss: 6.4745 - val_acc: 0.2705\n",
      "Epoch 3/30\n",
      "50000/50000 [==============================] - 46s 920us/step - loss: 4.7938 - acc: 0.6611 - val_loss: 6.3781 - val_acc: 0.2964\n",
      "Epoch 4/30\n",
      "50000/50000 [==============================] - 46s 922us/step - loss: 4.5918 - acc: 0.7162 - val_loss: 4.8274 - val_acc: 0.6207\n",
      "Epoch 5/30\n",
      "50000/50000 [==============================] - 46s 926us/step - loss: 4.4109 - acc: 0.7611 - val_loss: 4.8354 - val_acc: 0.6048\n",
      "Epoch 6/30\n",
      "50000/50000 [==============================] - 46s 912us/step - loss: 4.2464 - acc: 0.7995 - val_loss: 5.2278 - val_acc: 0.5464\n",
      "Epoch 7/30\n",
      "50000/50000 [==============================] - 46s 917us/step - loss: 4.1133 - acc: 0.8266 - val_loss: 5.1016 - val_acc: 0.5710\n",
      "Epoch 8/30\n",
      "50000/50000 [==============================] - 47s 938us/step - loss: 3.9818 - acc: 0.8532 - val_loss: 4.7273 - val_acc: 0.6405\n",
      "Epoch 9/30\n",
      "50000/50000 [==============================] - 46s 910us/step - loss: 3.8609 - acc: 0.8813 - val_loss: 4.8625 - val_acc: 0.6106\n",
      "Epoch 10/30\n",
      "50000/50000 [==============================] - 46s 911us/step - loss: 3.7588 - acc: 0.8985 - val_loss: 4.8593 - val_acc: 0.6244\n",
      "Epoch 11/30\n",
      "50000/50000 [==============================] - 46s 911us/step - loss: 3.6593 - acc: 0.9176 - val_loss: 4.8337 - val_acc: 0.6334\n",
      "Epoch 12/30\n",
      "50000/50000 [==============================] - 46s 911us/step - loss: 3.5736 - acc: 0.9310 - val_loss: 5.4895 - val_acc: 0.5470\n",
      "Epoch 13/30\n",
      "50000/50000 [==============================] - 46s 911us/step - loss: 3.4977 - acc: 0.9413 - val_loss: 4.5015 - val_acc: 0.6936\n",
      "Epoch 14/30\n",
      "50000/50000 [==============================] - 46s 911us/step - loss: 3.4178 - acc: 0.9534 - val_loss: 5.2885 - val_acc: 0.5813\n",
      "Epoch 15/30\n",
      "50000/50000 [==============================] - 46s 911us/step - loss: 3.3568 - acc: 0.9593 - val_loss: 4.8983 - val_acc: 0.6622\n",
      "Epoch 16/30\n",
      "50000/50000 [==============================] - 46s 910us/step - loss: 3.2898 - acc: 0.9666 - val_loss: 4.4949 - val_acc: 0.6958\n",
      "Epoch 17/30\n",
      "50000/50000 [==============================] - 46s 911us/step - loss: 3.2404 - acc: 0.9679 - val_loss: 4.8325 - val_acc: 0.6669\n",
      "Epoch 18/30\n",
      "50000/50000 [==============================] - 46s 911us/step - loss: 3.1974 - acc: 0.9675 - val_loss: 4.3881 - val_acc: 0.7033\n",
      "Epoch 19/30\n",
      "50000/50000 [==============================] - 46s 912us/step - loss: 3.1266 - acc: 0.9771 - val_loss: 4.3144 - val_acc: 0.7285\n",
      "Epoch 20/30\n",
      "50000/50000 [==============================] - 46s 911us/step - loss: 3.0755 - acc: 0.9795 - val_loss: 4.2552 - val_acc: 0.7231\n",
      "Epoch 21/30\n",
      "50000/50000 [==============================] - 46s 912us/step - loss: 3.0304 - acc: 0.9805 - val_loss: 4.2629 - val_acc: 0.7350\n",
      "Epoch 22/30\n",
      "50000/50000 [==============================] - 45s 906us/step - loss: 2.9757 - acc: 0.9842 - val_loss: 4.2624 - val_acc: 0.7397\n",
      "Epoch 23/30\n",
      "50000/50000 [==============================] - 45s 906us/step - loss: 2.9425 - acc: 0.9818 - val_loss: 4.9539 - val_acc: 0.6405\n",
      "Epoch 24/30\n",
      "50000/50000 [==============================] - 45s 905us/step - loss: 2.9032 - acc: 0.9811 - val_loss: 4.7041 - val_acc: 0.6591\n",
      "Epoch 25/30\n",
      "50000/50000 [==============================] - 45s 906us/step - loss: 2.8461 - acc: 0.9867 - val_loss: 4.3526 - val_acc: 0.7193\n",
      "Epoch 26/30\n",
      "50000/50000 [==============================] - 45s 905us/step - loss: 2.7956 - acc: 0.9898 - val_loss: 3.9988 - val_acc: 0.7580\n",
      "Epoch 27/30\n",
      "50000/50000 [==============================] - 45s 906us/step - loss: 2.7542 - acc: 0.9897 - val_loss: 3.9560 - val_acc: 0.7413\n",
      "Epoch 28/30\n",
      "50000/50000 [==============================] - 45s 905us/step - loss: 2.7273 - acc: 0.9854 - val_loss: 4.5718 - val_acc: 0.6639\n",
      "Epoch 29/30\n",
      "50000/50000 [==============================] - 45s 903us/step - loss: 2.6873 - acc: 0.9859 - val_loss: 3.9788 - val_acc: 0.7464\n",
      "Epoch 30/30\n",
      "50000/50000 [==============================] - 45s 904us/step - loss: 2.6322 - acc: 0.9919 - val_loss: 4.1206 - val_acc: 0.7232\n",
      "10000/10000 [==============================] - 7s 654us/step\n",
      "Loss: 4.121\n",
      "test Accuracy: 0.723\n"
     ]
    }
   ],
   "source": [
    "model = DenseNet(10,input_shape=None)\n",
    "model.compile(optimizer=SGD(lr=0.1, nesterov=True), loss='categorical_crossentropy',metrics=['accuracy'])\n",
    "hist = model.fit(X_train / 255.0, to_categorical(Y_train),\n",
    "            batch_size=128,\n",
    "            shuffle=True,\n",
    "            epochs=30,\n",
    "            validation_data=(X_test / 255.0, to_categorical(Y_test)),\n",
    "            callbacks=[EarlyStopping(min_delta=0.001, patience=20)])\n",
    "    \n",
    "scores = model.evaluate(X_test / 255.0, to_categorical(Y_test))\n",
    "print('Loss: %.3f' % scores[0])\n",
    "print('test Accuracy: %.3f' % scores[1])\n"
   ]
  },
  {
   "cell_type": "code",
   "execution_count": 8,
   "metadata": {},
   "outputs": [
    {
     "data": {
      "image/png": "[encoded data removed]",
      "text/plain": [
       "<Figure size 432x288 with 1 Axes>"
      ]
     },
     "metadata": {},
     "output_type": "display_data"
    }
   ],
   "source": [
    "fig, loss_ax = plt.subplots()\n",
    "\n",
    "loss_ax.plot(hist.history['loss'], 'y', label='train loss')\n",
    "loss_ax.plot(hist.history['val_loss'], 'r', label='val loss')\n",
    "loss_ax.set_xlabel('epoch')\n",
    "loss_ax.set_ylabel('loss')\n",
    "loss_ax.legend(loc='upper left')\n",
    "\n",
    "plt.show()   "
   ]
  }
 ],
 "metadata": {
  "kernelspec": {
   "display_name": "Python 3",
   "language": "python",
   "name": "python3"
  },
  "language_info": {
   "codemirror_mode": {
    "name": "ipython",
    "version": 3
   },
   "file_extension": ".py",
   "mimetype": "text/x-python",
   "name": "python",
   "nbconvert_exporter": "python",
   "pygments_lexer": "ipython3",
   "version": "3.6.6"
  }
 },
 "nbformat": 4,
 "nbformat_minor": 2
}
