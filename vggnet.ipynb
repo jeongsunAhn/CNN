{
 "cells": [
  {
   "cell_type": "code",
   "execution_count": 1,
   "metadata": {},
   "outputs": [
    {
     "name": "stderr",
     "output_type": "stream",
     "text": [
      "C:\\Users\\JHLee\\Anaconda3\\lib\\site-packages\\h5py\\__init__.py:36: FutureWarning: Conversion of the second argument of issubdtype from `float` to `np.floating` is deprecated. In future, it will be treated as `np.float64 == np.dtype(float).type`.\n",
      "  from ._conv import register_converters as _register_converters\n",
      "Using TensorFlow backend.\n"
     ]
    }
   ],
   "source": [
    "from keras.models import Model\n",
    "from keras import layers\n",
    "from keras.layers import Input, Dense,Conv2D, Activation, BatchNormalization\n",
    "from keras.layers import MaxPooling2D, AveragePooling2D, Dropout, Flatten, GlobalAveragePooling2D, GlobalMaxPooling2D\n",
    "from keras.preprocessing import image\n",
    "from keras.optimizers import Adam\n",
    "from keras.utils import to_categorical\n",
    "from keras_applications.imagenet_utils import _obtain_input_shape\n",
    "from keras import backend as K\n",
    "from keras.callbacks import EarlyStopping\n",
    "import numpy as np\n",
    "import matplotlib.pyplot as plt\n",
    "from keras.utils.data_utils import get_file"
   ]
  },
  {
   "cell_type": "code",
   "execution_count": 2,
   "metadata": {},
   "outputs": [],
   "source": [
    "def convLayer(x,filters,num_row,num_col,padding='same',strides=(1, 1),\n",
    "              normalizer=True,activation='relu'):\n",
    "    \n",
    "    if K.image_data_format() == 'channels_first':\n",
    "        bn_axis = 1\n",
    "    else:\n",
    "        bn_axis = 3\n",
    "\n",
    "    x = Conv2D(filters, (num_row, num_col),strides=strides, \n",
    "               padding=padding,use_bias=False)(x)\n",
    "\n",
    "    if normalizer:\n",
    "        x = BatchNormalization(axis=bn_axis, scale=False)(x)\n",
    "    \n",
    "    if activation:\n",
    "        x = Activation(activation)(x)\n",
    "    \n",
    "    return x"
   ]
  },
  {
   "cell_type": "markdown",
   "metadata": {},
   "source": [
    "## 19 layer vggnet \n"
   ]
  },
  {
   "cell_type": "code",
   "execution_count": 3,
   "metadata": {},
   "outputs": [],
   "source": [
    "WEIGHTS_PATH = 'https://github.com/fchollet/deep-learning-models/releases/download/v0.1/vgg19_weights_tf_dim_ordering_tf_kernels.h5'\n",
    "\n",
    "def vggnet(weights = None, input_shape=None,classes=1000):\n",
    "    input_shape = _obtain_input_shape(input_shape,default_size=32,min_size=15,\n",
    "        data_format=K.image_data_format(),require_flatten=True)\n",
    "\n",
    "    if K.image_data_format() == 'channels_first':\n",
    "        channel_axis = 1\n",
    "    else:\n",
    "        channel_axis = 3\n",
    "    \n",
    "    # 'Sequential bit at start'\n",
    "    img_input = Input(shape=input_shape)\n",
    "    x = img_input\n",
    "    x = convLayer(x,  64, 3, 3, padding='same') \n",
    "    x = convLayer(x,  64, 3, 3, padding='same')\n",
    "    x = MaxPooling2D((2, 2), strides=(2, 2))(x)  \n",
    "    \n",
    "    x = convLayer(x, 128, 3, 3, padding='same')  \n",
    "    x = convLayer(x, 128, 3, 3, padding='same')  \n",
    "    x = MaxPooling2D((2, 2), strides=(2, 2))(x)  \n",
    "    \n",
    "    x = convLayer(x,256, 3, 3, padding='same')  \n",
    "    x = convLayer(x,256, 3, 3, padding='same')  \n",
    "    x = convLayer(x,256, 3, 3, padding='same')  \n",
    "    x = convLayer(x,256, 3, 3, padding='same')  \n",
    "    x = MaxPooling2D((2, 2), strides=(2, 2))(x)  \n",
    "\n",
    "    x = convLayer(x, 512, 3, 3, padding='same')  \n",
    "    x = convLayer(x, 512, 3, 3, padding='same') \n",
    "    x = convLayer(x, 512, 3, 3, padding='same')  \n",
    "    x = convLayer(x, 512, 3, 3, padding='same') \n",
    "    x = MaxPooling2D((2, 2), strides=(2, 2))(x)  \n",
    "   \n",
    "    x = convLayer(x, 512, 3, 3, padding='same')  \n",
    "    x = convLayer(x, 512, 3, 3, padding='same') \n",
    "    x = convLayer(x, 512, 3, 3, padding='same')  \n",
    "    x = convLayer(x, 512, 3, 3, padding='same')  \n",
    "    x = MaxPooling2D((2, 2), strides=(2, 2))(x)\n",
    "    \n",
    "    x = Flatten()(x)\n",
    "    x = Dense(4096, activation = 'relu')(x)\n",
    "    x = Dense(4096, activation = 'relu')(x)\n",
    "    x = Dense(classes)(x)\n",
    "    loss= Activation('softmax')(x)\n",
    "    \n",
    "    inputs = img_input\n",
    "    vggnet = Model(inputs,loss)\n",
    "    \n",
    "    if weights == 'imagenet':\n",
    "        weights_path = get_file('vgg19_weights_tf_dim_ordering_tf_kernels.h5',\n",
    "                                    WEIGHTS_PATH,\n",
    "                                    cache_subdir='models')\n",
    "        vggnet.load_weights(weights_path)    \n",
    "        \n",
    "    return vggnet"
   ]
  },
  {
   "cell_type": "code",
   "execution_count": 4,
   "metadata": {},
   "outputs": [],
   "source": [
    "def preprocess_input(x):\n",
    "    x /= 255.0\n",
    "    x -= 0.5\n",
    "    x *= 2.\n",
    "    return x"
   ]
  },
  {
   "cell_type": "code",
   "execution_count": 5,
   "metadata": {},
   "outputs": [],
   "source": [
    "from keras.datasets import cifar10\n",
    "np.random.seed(1000)\n",
    "(X_train, Y_train), (X_test, Y_test) = cifar10.load_data()\n"
   ]
  },
  {
   "cell_type": "code",
   "execution_count": 6,
   "metadata": {},
   "outputs": [
    {
     "name": "stdout",
     "output_type": "stream",
     "text": [
      "Train on 50000 samples, validate on 10000 samples\n",
      "Epoch 1/150\n",
      "50000/50000 [==============================] - 49s 979us/step - loss: 1.3690 - acc: 0.5013 - val_loss: 1.4032 - val_acc: 0.5401\n",
      "Epoch 2/150\n",
      "50000/50000 [==============================] - 43s 853us/step - loss: 0.9305 - acc: 0.6696 - val_loss: 1.0286 - val_acc: 0.6602\n",
      "Epoch 3/150\n",
      "50000/50000 [==============================] - 43s 864us/step - loss: 0.7067 - acc: 0.7535 - val_loss: 1.2456 - val_acc: 0.5966\n",
      "Epoch 4/150\n",
      "50000/50000 [==============================] - 42s 846us/step - loss: 0.5296 - acc: 0.8179 - val_loss: 1.0531 - val_acc: 0.6780\n",
      "Epoch 5/150\n",
      "50000/50000 [==============================] - 42s 847us/step - loss: 0.3968 - acc: 0.8633 - val_loss: 0.9315 - val_acc: 0.7166\n",
      "Epoch 6/150\n",
      "50000/50000 [==============================] - 42s 846us/step - loss: 0.2832 - acc: 0.9035 - val_loss: 1.1067 - val_acc: 0.6870\n",
      "Epoch 7/150\n",
      "50000/50000 [==============================] - 42s 847us/step - loss: 0.2179 - acc: 0.9266 - val_loss: 1.2133 - val_acc: 0.6846\n",
      "Epoch 8/150\n",
      "50000/50000 [==============================] - 42s 846us/step - loss: 0.1700 - acc: 0.9421 - val_loss: 1.4915 - val_acc: 0.6646\n",
      "Epoch 9/150\n",
      "50000/50000 [==============================] - 42s 845us/step - loss: 0.1406 - acc: 0.9521 - val_loss: 1.1608 - val_acc: 0.7137\n",
      "Epoch 10/150\n",
      "50000/50000 [==============================] - 42s 846us/step - loss: 0.1192 - acc: 0.9593 - val_loss: 1.3406 - val_acc: 0.6948\n",
      "Epoch 11/150\n",
      "50000/50000 [==============================] - 42s 847us/step - loss: 0.1041 - acc: 0.9647 - val_loss: 1.2401 - val_acc: 0.7154\n",
      "Epoch 12/150\n",
      "50000/50000 [==============================] - 42s 846us/step - loss: 0.0973 - acc: 0.9670 - val_loss: 1.2168 - val_acc: 0.7102\n",
      "Epoch 13/150\n",
      "50000/50000 [==============================] - 42s 846us/step - loss: 0.0895 - acc: 0.9706 - val_loss: 1.3853 - val_acc: 0.7187\n",
      "Epoch 14/150\n",
      "50000/50000 [==============================] - 42s 845us/step - loss: 0.0800 - acc: 0.9733 - val_loss: 1.1380 - val_acc: 0.7396\n",
      "Epoch 15/150\n",
      "50000/50000 [==============================] - 42s 845us/step - loss: 0.0774 - acc: 0.9738 - val_loss: 1.9808 - val_acc: 0.6441\n",
      "Epoch 16/150\n",
      "50000/50000 [==============================] - 42s 846us/step - loss: 0.0796 - acc: 0.9736 - val_loss: 1.3044 - val_acc: 0.7188\n",
      "Epoch 17/150\n",
      "50000/50000 [==============================] - 42s 848us/step - loss: 0.0742 - acc: 0.9754 - val_loss: 1.3453 - val_acc: 0.7190\n",
      "Epoch 18/150\n",
      "50000/50000 [==============================] - 42s 837us/step - loss: 0.0684 - acc: 0.9769 - val_loss: 1.4748 - val_acc: 0.7068\n",
      "Epoch 19/150\n",
      "50000/50000 [==============================] - 42s 838us/step - loss: 0.0683 - acc: 0.9779 - val_loss: 1.5632 - val_acc: 0.6804\n",
      "Epoch 20/150\n",
      "50000/50000 [==============================] - 42s 838us/step - loss: 0.0603 - acc: 0.9795 - val_loss: 1.5758 - val_acc: 0.6962\n",
      "Epoch 21/150\n",
      "50000/50000 [==============================] - 42s 838us/step - loss: 0.0613 - acc: 0.9797 - val_loss: 1.2894 - val_acc: 0.7216\n",
      "Epoch 22/150\n",
      "50000/50000 [==============================] - 42s 838us/step - loss: 0.0568 - acc: 0.9809 - val_loss: 1.3472 - val_acc: 0.7230\n",
      "Epoch 23/150\n",
      "50000/50000 [==============================] - 42s 838us/step - loss: 0.0545 - acc: 0.9816 - val_loss: 1.3667 - val_acc: 0.7107\n",
      "Epoch 24/150\n",
      "50000/50000 [==============================] - 42s 838us/step - loss: 0.0572 - acc: 0.9813 - val_loss: 1.3303 - val_acc: 0.7144\n",
      "Epoch 25/150\n",
      "50000/50000 [==============================] - 42s 838us/step - loss: 0.0541 - acc: 0.9827 - val_loss: 1.2492 - val_acc: 0.7450\n",
      "10000/10000 [==============================] - 3s 344us/step\n",
      "Loss: 1.249\n",
      "test Accuracy: 0.745\n"
     ]
    }
   ],
   "source": [
    "if __name__ =='__main__' :\n",
    "    model = vggnet(classes = 10)\n",
    "    # X_train, X_test , Y_train, Y_test를 불러왔다고 가정한다면\n",
    "    model.compile(optimizer=Adam(lr=0.0001, decay=1e-6), loss='categorical_crossentropy',metrics=['accuracy'])\n",
    "    hist = model.fit(X_train/255.0, to_categorical(Y_train),\n",
    "              batch_size=128,\n",
    "              shuffle=True,\n",
    "              epochs=150,\n",
    "              validation_data=((X_test)/255.0, to_categorical(Y_test)),\n",
    "              callbacks=[EarlyStopping(min_delta=0.001, patience=20)])\n",
    "\n",
    "    scores = model.evaluate((X_test)/255.0, to_categorical(Y_test))\n",
    "    print('Loss: %.3f' % scores[0])\n",
    "    print('test Accuracy: %.3f' % scores[1])"
   ]
  },
  {
   "cell_type": "code",
   "execution_count": 7,
   "metadata": {},
   "outputs": [
    {
     "data": {
      "image/png": "[encoded data removed]",
      "text/plain": [
       "<Figure size 432x288 with 1 Axes>"
      ]
     },
     "metadata": {},
     "output_type": "display_data"
    }
   ],
   "source": [
    "fig, loss_ax = plt.subplots()\n",
    "\n",
    "loss_ax.plot(hist.history['loss'], 'y', label='train loss')\n",
    "loss_ax.plot(hist.history['val_loss'], 'r', label='val loss')\n",
    "loss_ax.set_xlabel('epoch')\n",
    "loss_ax.set_ylabel('loss')\n",
    "loss_ax.legend(loc='upper left')\n",
    "\n",
    "plt.show()   "
   ]
  },
  {
   "cell_type": "markdown",
   "metadata": {},
   "source": [
    "## 결과 해석\n",
    "\n",
    "vggnet은 vanishing gradient을 해결하기 위해서 단순한 구조의 11 layer 을 학습시켜 나온 값을 초기의 4개와 마지막 fc 에 초기값으로 사용한다고 했다. \n",
    "단순하게 adam으로 학습시켜서 val loss의 값이 저렇게 변한게 아닌가 싶다! \n",
    "* 이런 weight를 어떻게 사용하는지 나중에 공부해보기"
   ]
  }
 ],
 "metadata": {
  "kernelspec": {
   "display_name": "Python 3",
   "language": "python",
   "name": "python3"
  },
  "language_info": {
   "codemirror_mode": {
    "name": "ipython",
    "version": 3
   },
   "file_extension": ".py",
   "mimetype": "text/x-python",
   "name": "python",
   "nbconvert_exporter": "python",
   "pygments_lexer": "ipython3",
   "version": "3.6.6"
  }
 },
 "nbformat": 4,
 "nbformat_minor": 2
}
